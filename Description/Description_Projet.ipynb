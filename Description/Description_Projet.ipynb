{
 "cells": [
  {
   "cell_type": "markdown",
   "id": "d46bcf62",
   "metadata": {},
   "source": [
    "# 🚀  Roadmap complète pour devenir Data Analyst\n",
    "             \n",
    "\n",
    "Créée par : Natacha Njongwa Yepnga, fondatrice de la chaîne Youtube [LeCoinStat](https://www.youtube.com/c/LeCoinStat)\n",
    "\n",
    "Je suis Kelly AHOUGBE [LinkedIn](https://www.linkedin.com/in/kelly-ahougbe), satisticienne et futur Data Scientist.\n",
    "\n",
    "J'ai décidé de suivre cette roadmap [GitHub](https://github.com/LeCoinStat/LeCoinStat/blob/main/Roadmap/Roadmap_DataAnalyst.ipynb) afin de renforcer mes compétences et de construire un portfolio solide."
   ]
  },
  {
   "cell_type": "markdown",
   "id": "4c9b36ee",
   "metadata": {},
   "source": [
    "# 🎯 Objectif\n",
    "\n",
    "L'objectif de ce projet est de suivre rigoureusement le roadmap . Ce parcours à renforcer mes compétences en analyse de données en tant que **statisticienne**. \n",
    "\n",
    "La roadmap est structurée sur 9 mois, avec des objectifs clairs pour chaque mois, afin d’acquérir progressivement toutes les compétences clés du métier. \n",
    "\n",
    "J’ai commencé ce parcours en avril 2025. Même si mes nombreuses obligations ont retardé mon avancement, je viens de finaliser le premier mois.\n",
    "Désormais, je suis déterminée à poursuivre et à compléter l’ensemble des 9 mois, peu importe le temps que cela me prendra.\n",
    "\n",
    "Ce projet est une promesse envers moi-même : **aller jusqu’au bout**.\n"
   ]
  },
  {
   "cell_type": "markdown",
   "id": "fd37ad4c",
   "metadata": {},
   "source": [
    "\n",
    "#  📁 Structure du dossier\n",
    "\n",
    "Ce dossier contient l’ensemble du projet. Il est organisé de manière à refléter l’évolution mensuelle proposée par la roadmap.\n",
    "- La roadmap et ce document **Description_projet**  qui fournit une vue d’ensemble du projet, de ses objectifs et de son contexte.\n",
    "- Ensuite, chaque mois fait l’objet d’un dossier dédié (First_Month, Second_Month, ..., Ninth_Month) contenant les ressources, projets, notes et livrables associés à la période concernée."
   ]
  }
 ],
 "metadata": {
  "hide_input": false,
  "kernelspec": {
   "display_name": "Python 3 (ipykernel)",
   "language": "python",
   "name": "python3"
  },
  "language_info": {
   "codemirror_mode": {
    "name": "ipython",
    "version": 3
   },
   "file_extension": ".py",
   "mimetype": "text/x-python",
   "name": "python",
   "nbconvert_exporter": "python",
   "pygments_lexer": "ipython3",
   "version": "3.12.3"
  },
  "toc": {
   "base_numbering": 1,
   "nav_menu": {},
   "number_sections": true,
   "sideBar": true,
   "skip_h1_title": false,
   "title_cell": "Table of Contents",
   "title_sidebar": "Contents",
   "toc_cell": false,
   "toc_position": {},
   "toc_section_display": true,
   "toc_window_display": false
  }
 },
 "nbformat": 4,
 "nbformat_minor": 5
}
