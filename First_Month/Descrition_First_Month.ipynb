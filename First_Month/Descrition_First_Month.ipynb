{
 "cells": [
  {
   "cell_type": "markdown",
   "id": "d46bcf62",
   "metadata": {},
   "source": [
    "\n",
    "# 🚀  Roadmap complète pour devenir Data Analyst en 9 mois"
   ]
  },
  {
   "cell_type": "markdown",
   "id": "4c9b36ee",
   "metadata": {},
   "source": [
    "\n",
    "# Mois 1 - Fondements en Statistiques et Excel\n",
    "\n",
    "- **Sujet :** Fondamentaux des statistiques et maîtrise d'Excel.\n",
    "- **Projet :** Analyse statistique et création d'un tableau de bord dans Excel."
   ]
  },
  {
   "cell_type": "markdown",
   "id": "fd37ad4c",
   "metadata": {},
   "source": [
    "\n",
    "#  📁 Structure du dossier\n",
    "\n",
    "Ce dossier contient l’ensemble du projet réalisé lors du premier mois de la roadmap. Il comprend :\n",
    "- Ce document **Description_First_Month**  qui présente brièvement les objectifs de ce premier mois.\n",
    "- La base de donnée brute issue de [Kaggle](https://www.kaggle.com/datasets/vivek468/superstore-dataset-final)\n",
    "- Un document **Résumé_First_Month** qui présent un bréf aperçu des résultats de l'analyse de données.\n",
    "- Le fichier  Excel **Data_Analyst_1** regroupant l’ensemble des travaux effectués (analyses, visualisations, interprètation)\n",
    "\n",
    "  \n",
    "⚠️ Ce fichier Excel ne peut pas être prévisualisé directement sur GitHub en raison de son format.\n",
    "Je vous invite à le télécharger puis l’ouvrir avec Excel pour explorer mon travail.\n",
    "Vos retours sont les bienvenus — ils m’aideront à m’améliorer !"
   ]
  }
 ],
 "metadata": {
  "hide_input": false,
  "kernelspec": {
   "display_name": "Python 3 (ipykernel)",
   "language": "python",
   "name": "python3"
  },
  "language_info": {
   "codemirror_mode": {
    "name": "ipython",
    "version": 3
   },
   "file_extension": ".py",
   "mimetype": "text/x-python",
   "name": "python",
   "nbconvert_exporter": "python",
   "pygments_lexer": "ipython3",
   "version": "3.12.3"
  },
  "toc": {
   "base_numbering": 1,
   "nav_menu": {},
   "number_sections": true,
   "sideBar": true,
   "skip_h1_title": false,
   "title_cell": "Table of Contents",
   "title_sidebar": "Contents",
   "toc_cell": false,
   "toc_position": {},
   "toc_section_display": true,
   "toc_window_display": false
  }
 },
 "nbformat": 4,
 "nbformat_minor": 5
}
